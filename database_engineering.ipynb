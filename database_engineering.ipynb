{
 "cells": [
  {
   "cell_type": "code",
   "execution_count": 1,
   "metadata": {
    "collapsed": true
   },
   "outputs": [],
   "source": [
    "# Dependencies\n",
    "import pandas as pd\n",
    "import sqlalchemy\n",
    "from sqlalchemy import create_engine, MetaData, insert, select\n",
    "from sqlalchemy.ext.declarative import declarative_base\n",
    "from sqlalchemy import Table, Column, Integer, String, Numeric, Text, Float"
   ]
  },
  {
   "cell_type": "markdown",
   "metadata": {},
   "source": [
    "## generate SQLite database and tables"
   ]
  },
  {
   "cell_type": "code",
   "execution_count": 2,
   "metadata": {
    "collapsed": true
   },
   "outputs": [],
   "source": [
    "# Define an engine to create sqlite database\n",
    "engine = create_engine('sqlite:///hawaii.sqlite')"
   ]
  },
  {
   "cell_type": "code",
   "execution_count": 3,
   "metadata": {
    "collapsed": true
   },
   "outputs": [],
   "source": [
    "# Initialize MetaData: metadata\n",
    "metadata = MetaData()"
   ]
  },
  {
   "cell_type": "code",
   "execution_count": 4,
   "metadata": {},
   "outputs": [],
   "source": [
    "# Build a table: station\n",
    "station = Table('station', metadata,\n",
    "               Column('id', Integer(), primary_key=True),\n",
    "               Column('station', String(255)),\n",
    "               Column('name', String(255)),\n",
    "               Column('latitude', Float()),\n",
    "               Column('longitude', Float()),\n",
    "               Column('elevation', Float()))"
   ]
  },
  {
   "cell_type": "code",
   "execution_count": 5,
   "metadata": {
    "collapsed": true
   },
   "outputs": [],
   "source": [
    "# Build a table: measurement\n",
    "measurement = Table('measurement', metadata,\n",
    "               Column('id', Integer(), primary_key=True),\n",
    "               Column('station', String(255)),\n",
    "               Column('date', String(30)),\n",
    "               Column('prcp', Float()),\n",
    "               Column('tobs', Integer()))"
   ]
  },
  {
   "cell_type": "code",
   "execution_count": 6,
   "metadata": {
    "collapsed": true
   },
   "outputs": [],
   "source": [
    "# Create the table in the database\n",
    "metadata.create_all(engine)"
   ]
  },
  {
   "cell_type": "code",
   "execution_count": 7,
   "metadata": {},
   "outputs": [
    {
     "name": "stdout",
     "output_type": "stream",
     "text": [
      "['measurement', 'station']\n"
     ]
    }
   ],
   "source": [
    "print(engine.table_names())"
   ]
  },
  {
   "cell_type": "markdown",
   "metadata": {},
   "source": [
    "## input information to station table from CSV file"
   ]
  },
  {
   "cell_type": "code",
   "execution_count": 8,
   "metadata": {
    "collapsed": true
   },
   "outputs": [],
   "source": [
    "station_df = pd.read_csv(\"hawaii_stations.csv\")"
   ]
  },
  {
   "cell_type": "code",
   "execution_count": 9,
   "metadata": {},
   "outputs": [],
   "source": [
    "# Create an empty list: values_list\n",
    "values_list = []\n",
    "\n",
    "# Iterate over the rows\n",
    "for index, row in station_df.iterrows():\n",
    "    # Create a dictionary with the values\n",
    "    data = {'station': row[0], 'name': row[1], 'latitude':row[2],\n",
    "            'longitude': row[3],'elevation': row[4]}\n",
    "    # Append the dictionary to the values list\n",
    "    values_list.append(data)"
   ]
  },
  {
   "cell_type": "code",
   "execution_count": 10,
   "metadata": {},
   "outputs": [
    {
     "name": "stdout",
     "output_type": "stream",
     "text": [
      "9\n"
     ]
    }
   ],
   "source": [
    "# Build insert statement: stmt\n",
    "stmt = insert(station)\n",
    "\n",
    "# Use values_list to insert data: results\n",
    "connection = engine.connect()\n",
    "results = connection.execute(stmt, values_list)\n",
    "\n",
    "# Print rowcount\n",
    "print(results.rowcount)"
   ]
  },
  {
   "cell_type": "markdown",
   "metadata": {},
   "source": [
    "### test the table"
   ]
  },
  {
   "cell_type": "code",
   "execution_count": 11,
   "metadata": {},
   "outputs": [
    {
     "name": "stdout",
     "output_type": "stream",
     "text": [
      "SELECT station.id, station.station, station.name, station.latitude, station.longitude, station.elevation \n",
      "FROM station\n",
      "----------------\n",
      "[(1, 'USC00519397', 'WAIKIKI 717.2, HI US', 21.2716, -157.8168, 3.0), (2, 'USC00513117', 'KANEOHE 838.1, HI US', 21.4234, -157.8015, 14.6), (3, 'USC00514830', 'KUALOA RANCH HEADQUARTERS 886.9, HI US', 21.5213, -157.8374, 7.0), (4, 'USC00517948', 'PEARL CITY, HI US', 21.3934, -157.9751, 11.9), (5, 'USC00518838', 'UPPER WAHIAWA 874.3, HI US', 21.4992, -158.0111, 306.6), (6, 'USC00519523', 'WAIMANALO EXPERIMENTAL FARM, HI US', 21.33556, -157.71139, 19.5), (7, 'USC00519281', 'WAIHEE 837.5, HI US', 21.45167, -157.84888999999998, 32.9), (8, 'USC00511918', 'HONOLULU OBSERVATORY 702.2, HI US', 21.3152, -157.9992, 0.9), (9, 'USC00516128', 'MANOA LYON ARBO 785.2, HI US', 21.3331, -157.8025, 152.4)]\n"
     ]
    }
   ],
   "source": [
    "# Reflect station table via engine:\n",
    "station = Table('station', metadata, autoload=True, autoload_with=engine)\n",
    "\n",
    "# Build select statement for table: stmt\n",
    "stmt = select([station])\n",
    "\n",
    "# Print the emitted statement to see the SQL emitted\n",
    "print(stmt)\n",
    "print('----------------')\n",
    "\n",
    "# Execute the statement and print the results\n",
    "results = connection.execute(stmt).fetchall()\n",
    "print(results)"
   ]
  },
  {
   "cell_type": "markdown",
   "metadata": {},
   "source": [
    "## input information to measurement table from CSV file"
   ]
  },
  {
   "cell_type": "code",
   "execution_count": 12,
   "metadata": {},
   "outputs": [
    {
     "name": "stdout",
     "output_type": "stream",
     "text": [
      "19550\n"
     ]
    }
   ],
   "source": [
    "measurement_df = pd.read_csv(\"clean_hawaii_measurements.csv\")\n",
    "\n",
    "# Create an empty list: values_list\n",
    "values_list = []\n",
    "\n",
    "# Iterate over the rows\n",
    "for index, row in measurement_df.iterrows():\n",
    "    # Create a dictionary with the values\n",
    "    data = {'station': row[0], 'date': row[1], 'prcp':row[2], 'tobs': row[3]}\n",
    "    # Append the dictionary to the values list\n",
    "    values_list.append(data)\n",
    "\n",
    "# Build insert statement: stmt\n",
    "stmt = insert(measurement)\n",
    "\n",
    "# Use values_list to insert data: results\n",
    "connection = engine.connect()\n",
    "results = connection.execute(stmt, values_list)\n",
    "\n",
    "# Print rowcount\n",
    "print(results.rowcount)"
   ]
  },
  {
   "cell_type": "markdown",
   "metadata": {},
   "source": [
    "### test the table"
   ]
  },
  {
   "cell_type": "code",
   "execution_count": 14,
   "metadata": {},
   "outputs": [
    {
     "name": "stdout",
     "output_type": "stream",
     "text": [
      "SELECT measurement.id, measurement.station, measurement.date, measurement.prcp, measurement.tobs \n",
      "FROM measurement\n",
      " LIMIT :param_1\n",
      "----------------\n",
      "[(1, 'USC00519397', '2010-01-01', 0.08, 65), (2, 'USC00519397', '2010-01-02', 0.0, 63), (3, 'USC00519397', '2010-01-03', 0.0, 74), (4, 'USC00519397', '2010-01-04', 0.0, 76), (5, 'USC00519397', '2010-01-06', 0.0, 73), (6, 'USC00519397', '2010-01-07', 0.06, 70), (7, 'USC00519397', '2010-01-08', 0.0, 64), (8, 'USC00519397', '2010-01-09', 0.0, 68), (9, 'USC00519397', '2010-01-10', 0.0, 73), (10, 'USC00519397', '2010-01-11', 0.01, 64)]\n"
     ]
    }
   ],
   "source": [
    "# Reflect station table via engine:\n",
    "station = Table('measurement', metadata, autoload=True, autoload_with=engine)\n",
    "\n",
    "# Build select statement for table: stmt\n",
    "stmt = select([measurement]).limit(10)\n",
    "\n",
    "# Print the emitted statement to see the SQL emitted\n",
    "print(stmt)\n",
    "print('----------------')\n",
    "\n",
    "# Execute the statement and print the results\n",
    "results = connection.execute(stmt).fetchall()\n",
    "print(results)"
   ]
  },
  {
   "cell_type": "code",
   "execution_count": null,
   "metadata": {
    "collapsed": true
   },
   "outputs": [],
   "source": []
  }
 ],
 "metadata": {
  "kernelspec": {
   "display_name": "Python 3",
   "language": "python",
   "name": "python3"
  },
  "language_info": {
   "codemirror_mode": {
    "name": "ipython",
    "version": 3
   },
   "file_extension": ".py",
   "mimetype": "text/x-python",
   "name": "python",
   "nbconvert_exporter": "python",
   "pygments_lexer": "ipython3",
   "version": "3.6.5"
  }
 },
 "nbformat": 4,
 "nbformat_minor": 2
}
