{
 "cells": [
  {
   "cell_type": "code",
   "execution_count": 1,
   "metadata": {
    "collapsed": true
   },
   "outputs": [],
   "source": [
    "# Dependencies\n",
    "import pandas as pd\n",
    "import matplotlib.pyplot as plt\n",
    "from sqlalchemy import create_engine, Table, MetaData, insert, select, func, desc\n",
    "from datetime import datetime\n",
    "\n",
    "plt.style.use('ggplot')"
   ]
  },
  {
   "cell_type": "markdown",
   "metadata": {},
   "source": [
    "# connect to database & reflect tables"
   ]
  },
  {
   "cell_type": "code",
   "execution_count": 2,
   "metadata": {
    "collapsed": true
   },
   "outputs": [],
   "source": [
    "# Define an engine to connect sqlite database\n",
    "engine = create_engine('sqlite:///hawaii.sqlite')"
   ]
  },
  {
   "cell_type": "code",
   "execution_count": 3,
   "metadata": {
    "collapsed": true
   },
   "outputs": [],
   "source": [
    "# Define metadata, connection to execute query from the database\n",
    "metadata = MetaData()\n",
    "connection = engine.connect()"
   ]
  },
  {
   "cell_type": "code",
   "execution_count": 4,
   "metadata": {
    "collapsed": true
   },
   "outputs": [],
   "source": [
    "# Reflect both tables from the engine\n",
    "measurement = Table('measurement', metadata, autoload=True, autoload_with=engine)\n",
    "station = Table('station', metadata, autoload=True, autoload_with=engine)"
   ]
  },
  {
   "cell_type": "markdown",
   "metadata": {},
   "source": [
    "# precipitation analysis"
   ]
  },
  {
   "cell_type": "code",
   "execution_count": 5,
   "metadata": {},
   "outputs": [
    {
     "name": "stdout",
     "output_type": "stream",
     "text": [
      "SELECT measurement.date, sum(measurement.prcp) AS precipitation \n",
      "FROM measurement \n",
      "WHERE measurement.date > :date_1 GROUP BY measurement.date\n"
     ]
    }
   ],
   "source": [
    "# Build an expression to calculate the sum of prcp labeled as precipitation\n",
    "prcp_sum = func.sum(measurement.columns.prcp).label('precipitation')\n",
    "\n",
    "# Build a query to select the date and mean of prcp\n",
    "stmt = select([measurement.columns.date, prcp_sum])\n",
    "\n",
    "# Group stmt by state\n",
    "stmt = stmt.group_by(measurement.columns.date)\n",
    "\n",
    "# filter By date\n",
    "stmt = stmt.where(measurement.columns.date > '2016-08-31')\n",
    "\n",
    "print(stmt)"
   ]
  },
  {
   "cell_type": "code",
   "execution_count": 6,
   "metadata": {
    "collapsed": true
   },
   "outputs": [],
   "source": [
    "# Execute the statement\n",
    "results = connection.execute(stmt).fetchall()"
   ]
  },
  {
   "cell_type": "code",
   "execution_count": 7,
   "metadata": {
    "collapsed": true
   },
   "outputs": [],
   "source": [
    "# Create a DataFrame from the results: df\n",
    "df = pd.DataFrame(results)\n",
    "\n",
    "# Set column names\n",
    "df.columns = results[0].keys()"
   ]
  },
  {
   "cell_type": "code",
   "execution_count": 8,
   "metadata": {
    "collapsed": true
   },
   "outputs": [],
   "source": [
    "# convert date from string to time series\n",
    "time_series = []\n",
    "for i in range(len(df)):\n",
    "        date = datetime.strptime(df['date'][i], \"%Y-%m-%d\")\n",
    "        time_series.append(date)"
   ]
  },
  {
   "cell_type": "code",
   "execution_count": 9,
   "metadata": {},
   "outputs": [
    {
     "data": {
      "image/png": "[encoded data removed]",
      "text/plain": [
       "<matplotlib.figure.Figure at 0x119c22550>"
      ]
     },
     "metadata": {},
     "output_type": "display_data"
    }
   ],
   "source": [
    "# plot the precipitation data of last 12 months\n",
    "fig, ax = plt.subplots(1,1,figsize=(10,6))\n",
    "ax.bar(time_series, df['precipitation'], width=5, label='precipitation',\n",
    "       color='blue', alpha=0.8)\n",
    "ax.xaxis_date()\n",
    "plt.xticks(rotation=45)\n",
    "plt.legend(loc='best')\n",
    "plt.xlim(pd.Timestamp('2016-8-28'), pd.Timestamp('2017-8-26'))\n",
    "plt.show()"
   ]
  },
  {
   "cell_type": "code",
   "execution_count": 10,
   "metadata": {},
   "outputs": [
    {
     "data": {
      "text/plain": [
       "count    357.000000\n",
       "mean       0.945294\n",
       "std        1.731066\n",
       "min        0.000000\n",
       "25%        0.050000\n",
       "50%        0.390000\n",
       "75%        1.070000\n",
       "max       14.280000\n",
       "Name: precipitation, dtype: float64"
      ]
     },
     "execution_count": 10,
     "metadata": {},
     "output_type": "execute_result"
    }
   ],
   "source": [
    "# print out statistics of the precipitation, including mean, max, min & different percentiles\n",
    "df['precipitation'].describe()"
   ]
  },
  {
   "cell_type": "markdown",
   "metadata": {},
   "source": [
    "# Station analysis"
   ]
  },
  {
   "cell_type": "markdown",
   "metadata": {},
   "source": [
    "## Design a query to calculate the total number of stations."
   ]
  },
  {
   "cell_type": "code",
   "execution_count": 11,
   "metadata": {},
   "outputs": [
    {
     "name": "stdout",
     "output_type": "stream",
     "text": [
      "9\n"
     ]
    }
   ],
   "source": [
    "# Build a query to count the distinct station values\n",
    "stmt = select([func.count(station.columns.station.distinct())])\n",
    "\n",
    "# Execute the query and store the scalar result: distinct_state_count\n",
    "distinct_station_count = connection.execute(stmt).scalar()\n",
    "\n",
    "# Print the results\n",
    "print(distinct_station_count)"
   ]
  },
  {
   "cell_type": "markdown",
   "metadata": {
    "collapsed": true
   },
   "source": [
    "## Design a query to find the most active stations."
   ]
  },
  {
   "cell_type": "code",
   "execution_count": 12,
   "metadata": {},
   "outputs": [
    {
     "name": "stdout",
     "output_type": "stream",
     "text": [
      "SELECT measurement.station, count(measurement.prcp) AS observation_count \n",
      "FROM measurement GROUP BY measurement.station ORDER BY observation_count DESC\n"
     ]
    }
   ],
   "source": [
    "# Build an expression to calculate the count of observations as observation_count\n",
    "ob_count = func.count(measurement.columns.prcp).label('observation_count')\n",
    "\n",
    "# Build a query to select the date and mean of prcp\n",
    "stmt = select([measurement.columns.station, ob_count])\n",
    "\n",
    "# Group stmt by state\n",
    "stmt = stmt.group_by(measurement.columns.station)\n",
    "\n",
    "# Order stmt by observation_count in descending order: rev_stmt\n",
    "rev_stmt = stmt.order_by(desc(ob_count))\n",
    "\n",
    "print(rev_stmt)"
   ]
  },
  {
   "cell_type": "code",
   "execution_count": 13,
   "metadata": {
    "collapsed": true
   },
   "outputs": [],
   "source": [
    "# Execute the statement\n",
    "results = connection.execute(rev_stmt).fetchall()"
   ]
  },
  {
   "cell_type": "code",
   "execution_count": 14,
   "metadata": {},
   "outputs": [
    {
     "name": "stdout",
     "output_type": "stream",
     "text": [
      "('USC00519281', 2772)\n",
      "('USC00519397', 2724)\n",
      "('USC00513117', 2709)\n",
      "('USC00519523', 2669)\n",
      "('USC00516128', 2612)\n",
      "('USC00514830', 2202)\n",
      "('USC00511918', 1979)\n",
      "('USC00517948', 1372)\n",
      "('USC00518838', 511)\n",
      "----------\n",
      "The most active station is USC00519281, with 2772 of observations.\n"
     ]
    }
   ],
   "source": [
    "# print the results\n",
    "for result in results:\n",
    "    print(result)\n",
    "\n",
    "print(\"----------\")\n",
    "print(f\"The most active station is {results[0][0]}, with {results[0][1]} of observations.\")"
   ]
  },
  {
   "cell_type": "markdown",
   "metadata": {
    "collapsed": true
   },
   "source": [
    "## Design a query to retrieve the last 12 months of temperature observation data (tobs)"
   ]
  },
  {
   "cell_type": "code",
   "execution_count": 15,
   "metadata": {},
   "outputs": [
    {
     "name": "stdout",
     "output_type": "stream",
     "text": [
      "SELECT measurement.tobs \n",
      "FROM measurement \n",
      "WHERE measurement.station = :station_1 AND measurement.date > :date_1\n"
     ]
    }
   ],
   "source": [
    "# Build a query to select the tobs\n",
    "stmt = select([measurement.columns.tobs])\n",
    "\n",
    "# filter stmt by station\n",
    "stmt = stmt.where(measurement.columns.station == \"USC00519281\")\n",
    "\n",
    "# filter By date\n",
    "stmt = stmt.where(measurement.columns.date > '2016-08-31')\n",
    "\n",
    "print(stmt)"
   ]
  },
  {
   "cell_type": "code",
   "execution_count": 16,
   "metadata": {
    "collapsed": true
   },
   "outputs": [],
   "source": [
    "# Execute the statement\n",
    "results = connection.execute(stmt).fetchall()"
   ]
  },
  {
   "cell_type": "code",
   "execution_count": 17,
   "metadata": {
    "collapsed": true
   },
   "outputs": [],
   "source": [
    "# Create a DataFrame from the results: df\n",
    "df = pd.DataFrame(results)\n",
    "\n",
    "# Set column names\n",
    "df.columns = results[0].keys()"
   ]
  },
  {
   "cell_type": "code",
   "execution_count": 18,
   "metadata": {},
   "outputs": [
    {
     "data": {
      "image/png": "[encoded data removed]",
      "text/plain": [
       "<matplotlib.figure.Figure at 0x119d58f60>"
      ]
     },
     "metadata": {},
     "output_type": "display_data"
    }
   ],
   "source": [
    "df.plot.hist(bins=12, figsize=(8,6), color='blue')\n",
    "plt.show()"
   ]
  },
  {
   "cell_type": "markdown",
   "metadata": {
    "collapsed": true
   },
   "source": [
    "# Temperature Analysis"
   ]
  },
  {
   "cell_type": "code",
   "execution_count": 19,
   "metadata": {
    "collapsed": true
   },
   "outputs": [],
   "source": [
    "def calc_temps(start_date, end_date):\n",
    "    # Build an expression to calculate the average of temperature labeled as temperature\n",
    "    tobs_avg = func.avg(measurement.columns.tobs).label('tobs_avg')\n",
    "    # Build a query to select the tobs\n",
    "    stmt = select([tobs_avg])\n",
    "    # filter By start_date\n",
    "    stmt = stmt.where(measurement.columns.date > start_date)\n",
    "    # filter by end_date\n",
    "    stmt = stmt.where(measurement.columns.date < end_date)\n",
    "    # group by date\n",
    "    stmt = stmt.group_by(measurement.columns.date)\n",
    "    # Execute the statement\n",
    "    results = connection.execute(stmt).fetchall()\n",
    "    # Create a DataFrame from the results: df\n",
    "    df = pd.DataFrame(results)\n",
    "    # Set column names\n",
    "    df.columns = results[0].keys()\n",
    "    # calcuations\n",
    "    mean_tobs = df['tobs_avg'].mean()\n",
    "    max_tobs = df['tobs_avg'].max()\n",
    "    min_tobs = df['tobs_avg'].min()\n",
    "    diff_tobs = max_tobs - min_tobs\n",
    "    return df"
   ]
  },
  {
   "cell_type": "code",
   "execution_count": 20,
   "metadata": {
    "collapsed": true
   },
   "outputs": [],
   "source": [
    "df = calc_temps('2017-01-01', '2018-01-01')"
   ]
  },
  {
   "cell_type": "code",
   "execution_count": 21,
   "metadata": {
    "collapsed": true
   },
   "outputs": [],
   "source": [
    "mean_tobs = df['tobs_avg'].mean()\n",
    "max_tobs = df['tobs_avg'].max()\n",
    "min_tobs = df['tobs_avg'].min()\n",
    "diff_tobs = max_tobs - min_tobs"
   ]
  },
  {
   "cell_type": "code",
   "execution_count": 22,
   "metadata": {},
   "outputs": [
    {
     "data": {
      "image/png": "[encoded data removed]",
      "text/plain": [
       "<matplotlib.figure.Figure at 0x119d264a8>"
      ]
     },
     "metadata": {},
     "output_type": "display_data"
    }
   ],
   "source": [
    "fig = plt.figure(figsize=(2,6))\n",
    "plt.bar(0, mean_tobs, color='red', width=0.2, yerr = diff_tobs, alpha=0.4)\n",
    "plt.xticks([])\n",
    "plt.ylabel(\"Temp (F)\")\n",
    "plt.xlim(-0.15, 0.15)\n",
    "plt.show()"
   ]
  },
  {
   "cell_type": "markdown",
   "metadata": {
    "collapsed": true
   },
   "source": [
    "# Optional Analysis"
   ]
  },
  {
   "cell_type": "code",
   "execution_count": 23,
   "metadata": {
    "collapsed": true
   },
   "outputs": [],
   "source": [
    "# define a function to calculate daily normals for a date (%m-%d)\n",
    "def daily_normals(date):\n",
    "    # Build expressions for temperature calculation\n",
    "    tobs_avg = func.avg(measurement.columns.tobs).label('tobs_avg')\n",
    "    tobs_max = func.max(measurement.columns.tobs).label('tobs_max')\n",
    "    tobs_min = func.min(measurement.columns.tobs).label('tobs_min')\n",
    "    # Build statement for query and filter with the date\n",
    "    stmt = select([tobs_avg, tobs_max, tobs_min])\n",
    "    stmt = stmt.where(measurement.columns.date.like(f\"%{date}\"))\n",
    "    # Execute the statement\n",
    "    results = connection.execute(stmt).fetchall()\n",
    "    # assign values to variables\n",
    "    mean, max, min = results[0]\n",
    "    \n",
    "    return mean, max, min"
   ]
  },
  {
   "cell_type": "code",
   "execution_count": 24,
   "metadata": {
    "collapsed": true
   },
   "outputs": [],
   "source": [
    "# generate date list with format of %m-%d\n",
    "date_list = [\"01-01\", \"01-02\", \"01-03\", \"01-04\", \"01-05\", \"01-06\", \"01-07\"]"
   ]
  },
  {
   "cell_type": "code",
   "execution_count": 25,
   "metadata": {
    "collapsed": true
   },
   "outputs": [],
   "source": [
    "# generate empty lists\n",
    "mean_list = []\n",
    "max_list = []\n",
    "min_list = []\n",
    "\n",
    "# run the daily_mormals function and append values to lists\n",
    "for date in date_list:\n",
    "    mean, max, min = daily_normals(date)\n",
    "    mean_list.append(mean)\n",
    "    max_list.append(max)\n",
    "    min_list.append(min)"
   ]
  },
  {
   "cell_type": "code",
   "execution_count": 26,
   "metadata": {
    "collapsed": true
   },
   "outputs": [],
   "source": [
    "# generate pandas data frame\n",
    "df = pd.DataFrame({\n",
    "    \"date\": date_list,\n",
    "    \"tavg\": mean_list,\n",
    "    \"tmax\": max_list,\n",
    "    \"tmin\": min_list\n",
    "})"
   ]
  },
  {
   "cell_type": "code",
   "execution_count": 27,
   "metadata": {},
   "outputs": [],
   "source": [
    "# reset index of the data frame as date\n",
    "df = df.set_index('date')"
   ]
  },
  {
   "cell_type": "code",
   "execution_count": 28,
   "metadata": {},
   "outputs": [
    {
     "data": {
      "image/png": "[encoded data removed]",
      "text/plain": [
       "<matplotlib.figure.Figure at 0x11a5dc668>"
      ]
     },
     "metadata": {},
     "output_type": "display_data"
    }
   ],
   "source": [
    "# generate area plot for visualization\n",
    "df.plot.area(figsize=(10,6),stacked=False, alpha=0.1, linewidth=4,\n",
    "             color=['red', 'brown','blue'])\n",
    "plt.xticks(rotation=45)\n",
    "plt.legend(fontsize = 22)\n",
    "plt.show()"
   ]
  },
  {
   "cell_type": "code",
   "execution_count": null,
   "metadata": {
    "collapsed": true
   },
   "outputs": [],
   "source": []
  }
 ],
 "metadata": {
  "kernelspec": {
   "display_name": "Python 3",
   "language": "python",
   "name": "python3"
  },
  "language_info": {
   "codemirror_mode": {
    "name": "ipython",
    "version": 3
   },
   "file_extension": ".py",
   "mimetype": "text/x-python",
   "name": "python",
   "nbconvert_exporter": "python",
   "pygments_lexer": "ipython3",
   "version": "3.6.5"
  }
 },
 "nbformat": 4,
 "nbformat_minor": 2
}
